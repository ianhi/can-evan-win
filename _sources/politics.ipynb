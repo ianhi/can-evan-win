{
 "cells": [
  {
   "cell_type": "markdown",
   "id": "dd92e0d5-573b-4e06-b619-3bb9f4da031d",
   "metadata": {
    "editable": true,
    "slideshow": {
     "slide_type": ""
    },
    "tags": []
   },
   "source": [
    "# Political Differences\n",
    "This is the start of an accounting of the political differences between Evan and Rep Decker. If, like me, you find this convincing our district would be better served by Evan I hope you can join me in donating to the campaign (as you know from the [analysis](can-evan-win) we need to raise at least $70k to win) [here](https://secure.actblue.com/donate/ian-for-evan?refcode=can-win-politics).\n",
    "\n",
    "## Decker's politics \n",
    "\n",
    "**State House Transparency**\n",
    "\n",
    "Decker is on the record as being against increases in State house transparency, despite her district voting 10854 to 663 on a 2022 ballot measure in favor of basic transparency reforms.\n",
    "- [Vote against in 2019](https://www.beaconjournal.com/story/cambridge-chronicle-tab/2019/02/22/letter-disappointed-rep-decker-voted/5878713007/)\n",
    "- [Progressive MA Score Card](https://scorecard.progressivemass.com/legislator/marjorie-decker) (Has yet to sponsor transparency ammendments) \n",
    "- [Arguing against in 2021](https://malegislature.gov/Events/Sessions/Detail/3864/Video2) (Decker starts at ~53 minutes in)\n",
    "\n",
    "**Recent Scandal**\n",
    "\n",
    "Decker was caught in a lie last summer over the [extremely popular](https://www.memorialdrivealliance.org/riverbend-park#h.rtuywdvybsb5) Saturday usage of Memorial drive as a park. Good summarizing news article [here](https://mass.streetsblog.org/2023/07/26/emails-reveal-state-officials-flawed-excuses-for-taking-away-riverbend-park-access-in-cambridge). This generated significant community engagement such as this episode of [Cambridge Community Television Episode](https://vimeo.com/861729984) and this Twitter account named [\"OustDecker\"](https://twitter.com/OustDecker).\n",
    "\n",
    "**MBTA**\n",
    "\n",
    "The MBTA has been in crisis sersiously impacting her district's residents. Despite this Decker has remained silent.\n",
    "\n",
    "**Climate**\n",
    "\n",
    "\n",
    "**Tax Cuts**\n",
    "\n",
    "Despite publicly supporting the fair share ammendment, Decker did not protest the recent tax cut effectively undoing the will of the people. Rep Connolly who represents a large part of Cambridge argued against this *and* voted against the bill [source](https://actonmass.org/post/2023/10/03/10-01-2023-saturday-scoop-legislature-passes-1-bil-in-tax-cuts-virtually-undoing-fair-share). Sen Jehlen, who's district overlaps with Decker's also publicly opposed the tax cuts for the wealthy.\n",
    "\n",
    "In 2020 Decker voted against a Billonaire's tax - seemingly because she did not like the sponsor (Connolly) - [source](https://twitter.com/MarjorieDecker/status/1327035464629497858)\n",
    "\n",
    "\n",
    "## MacKay's politics\n",
    "\n",
    "Evan is progressive than Decker on every issue listed above. A particular strong point is fighting for state house transparency. This is critical as until the transparency issue is fixed we will never be able to make significant progress on the other issues facing Massachusetts.\n",
    "\n",
    "**Transparency**\n",
    "\n",
    "Evan was a supporter of UAWD and helped organize for the historic transparency reforms in the UAW."
   ]
  },
  {
   "cell_type": "code",
   "execution_count": null,
   "id": "4802513a-f25a-4921-ac26-19ec7a833c15",
   "metadata": {
    "editable": true,
    "slideshow": {
     "slide_type": ""
    },
    "tags": []
   },
   "outputs": [],
   "source": []
  }
 ],
 "metadata": {
  "kernelspec": {
   "display_name": "Python 3 (ipykernel)",
   "language": "python",
   "name": "python3"
  },
  "language_info": {
   "codemirror_mode": {
    "name": "ipython",
    "version": 3
   },
   "file_extension": ".py",
   "mimetype": "text/x-python",
   "name": "python",
   "nbconvert_exporter": "python",
   "pygments_lexer": "ipython3",
   "version": "3.11.5"
  },
  "widgets": {
   "application/vnd.jupyter.widget-state+json": {
    "state": {},
    "version_major": 2,
    "version_minor": 0
   }
  }
 },
 "nbformat": 4,
 "nbformat_minor": 5
}
